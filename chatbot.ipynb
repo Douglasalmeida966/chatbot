{
 "cells": [
  {
   "cell_type": "code",
   "execution_count": 3,
   "id": "8b1b1bdc",
   "metadata": {},
   "outputs": [
    {
     "name": "stdout",
     "output_type": "stream",
     "text": [
      "✔ Download and installation successful\n",
      "You can now load the package via spacy.load('en_core_web_sm')\n"
     ]
    }
   ],
   "source": [
    "from chatterbot import ChatBot\n",
    "from chatterbot.trainers import ListTrainer\n",
    "\n",
    "# isso aqui só precisa para corrigir o bug\n",
    "from spacy.cli import download\n",
    "\n",
    "download(\"en_core_web_sm\")\n",
    "\n",
    "class ENGSM:\n",
    "    ISO_639_1 = 'en_core_web_sm'\n",
    "\n"
   ]
  },
  {
   "cell_type": "code",
   "execution_count": 4,
   "id": "7b7d392c",
   "metadata": {},
   "outputs": [
    {
     "name": "stdout",
     "output_type": "stream",
     "text": [
      "List Trainer: [####################] 100%\n"
     ]
    }
   ],
   "source": [
    "chatbot = ChatBot(\"Chatdoug\", tagger_language=ENGSM)\n",
    "\n",
    "conversa = [\n",
    "    \"Boa noite\",\n",
    "    \"Boa noite, como vai ?\"\n",
    "    \"Estou bem, e você?\",\n",
    "    \"Estou ótimo\",\n",
    "    \"Que bom, o que temos para essa bela noite, meu consagrado?\",\n",
    "    \"Temos o nosso projeto de ChatBot\",\n",
    "    \"Opa verdade, minha cabeça está voando :v\",\n",
    "    \"kkkkkk\",\n",
    "    \"Não é zoeira, minha cabeça realmente tá voando, SOCORRO :c:\",\n",
    "    \"Deve ser por causa do trabalho de amanhã, kkkkk\"\n",
    "    \"Na verdade, e porque tem algum me olhando pela janela desde que eu cheguei em casa, a cada minuto essa sombra chega cada vez mais perto\",\n",
    "    \"Pode ser apenas a sua própria sombra, kkk\",\n",
    "    \"Não mano, a minha própria sombra não tem dois olhos totalmente pretos com sangue, é uma faca banhada em sangue\",\n",
    "    \"Então está empolgado para amanhã?\",\n",
    "    \"A sombra sumiu, ela não está mais lá fora, e eu estou escutando barulhos vindo de dentro da casa\",\n",
    "    \"Eu acho que é coisa da sua mente\",\n",
    "    \"A sombra voltou para fora da minha janela, mas ainda estou escutando barulhos dentro da casa,\",\n",
    "    \"Então, é melhor você sair dessa casa o mais rápido possível\",\n",
    "    \"Espera um minuto, não desliga o telefone. Eu vou olhar lá fora\",\n",
    "    \"Só tenha cuidado para não se machucar\",\n",
    "    \"Voltei, mano pelo que parece têm 2 sombras agora, uma dentro de casa e uma fora e a que tá dentro arrombou a porta e logo logo vai chegar em mim\",\n",
    "    \"Você está ficando louco e deve parar com essa história ai\",\n",
    "    \"Ela está tentando arrombar a minha porta, parece que ele me achou, eu não quero morrer hojê\",\n",
    "    \"Se esconde e tente chamar ajuda\",\n",
    "    \"Eu me escondi dentro do guarda-roupa, eu estou sozinho em casa hoje e parece que ela entrou dentro da quarto\",\n",
    "    \"Sinto muito, não tem mais nada que você possa fazer além de rezar\",\n",
    "    \"A sombra é igualzinha a você, Meu deus, ela me achou...\",\n",
    "    \"Então você merece mesmo\",\n",
    "    \n",
    "]\n",
    "\n",
    "trainer = ListTrainer(chatbot)\n",
    "trainer.train(conversa)"
   ]
  },
  {
   "cell_type": "code",
   "execution_count": null,
   "id": "c6319d0a",
   "metadata": {},
   "outputs": [
    {
     "name": "stdout",
     "output_type": "stream",
     "text": [
      "Mande uma mensagem para o chatbot: BOA NOITE\n",
      "BOA NOITE\n"
     ]
    }
   ],
   "source": [
    "while True:\n",
    "    mensagem =input(\"Mande uma mensagem para o chatbot: \")\n",
    "    if mensagem == \"parar\":\n",
    "        break\n",
    "    resposta=chatbot.get_response(mensagem)\n",
    "    print(resposta)\n"
   ]
  },
  {
   "cell_type": "code",
   "execution_count": 8,
   "id": "5f102ea0",
   "metadata": {},
   "outputs": [],
   "source": [
    "chatbot.storage.drop()"
   ]
  },
  {
   "cell_type": "code",
   "execution_count": null,
   "id": "7b6ae550",
   "metadata": {},
   "outputs": [],
   "source": []
  }
 ],
 "metadata": {
  "kernelspec": {
   "display_name": "Python 3",
   "language": "python",
   "name": "python3"
  },
  "language_info": {
   "codemirror_mode": {
    "name": "ipython",
    "version": 3
   },
   "file_extension": ".py",
   "mimetype": "text/x-python",
   "name": "python",
   "nbconvert_exporter": "python",
   "pygments_lexer": "ipython3",
   "version": "3.6.13"
  }
 },
 "nbformat": 4,
 "nbformat_minor": 5
}
